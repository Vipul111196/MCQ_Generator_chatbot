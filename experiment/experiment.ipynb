{
 "cells": [
  {
   "cell_type": "code",
   "execution_count": 1,
   "metadata": {},
   "outputs": [],
   "source": [
    "import os\n",
    "from dotenv import load_dotenv"
   ]
  },
  {
   "cell_type": "code",
   "execution_count": 2,
   "metadata": {},
   "outputs": [],
   "source": [
    "load_dotenv()\n",
    "OpenAI_API_Key = os.getenv(\"OPENAI_API_KEY\")\n",
    "# print(OpenAI_API_Key)"
   ]
  },
  {
   "cell_type": "code",
   "execution_count": 146,
   "metadata": {},
   "outputs": [],
   "source": [
    "from langchain_openai import OpenAI\n",
    "from langchain_openai import ChatOpenAI\n",
    "from langchain.prompts import PromptTemplate\n",
    "from langchain.chains import LLMChain, SequentialChain\n",
    "from langchain.callbacks import get_openai_callback\n",
    "import json\n",
    "import pandas as pd\n",
    "import traceback\n",
    "import PyPDF2"
   ]
  },
  {
   "cell_type": "code",
   "execution_count": 147,
   "metadata": {},
   "outputs": [],
   "source": [
    "llm = ChatOpenAI(model = 'gpt-3.5-turbo')"
   ]
  },
  {
   "cell_type": "code",
   "execution_count": 148,
   "metadata": {},
   "outputs": [
    {
     "name": "stdout",
     "output_type": "stream",
     "text": [
      "{'Question 1': {'mcq': 'Multiple Choice Question', 'options': {'a': 'choice here', 'b': 'choice here', 'c': 'choice here', 'd': 'choice here'}, 'Correct': 'correct answer'}, 'Question 2': {'mcq': 'Multiple Choice Question', 'options': {'a': 'choice here', 'b': 'choice here', 'c': 'choice here', 'd': 'choice here'}, 'Correct': 'correct answer'}, 'Question 3': {'mcq': 'Multiple Choice Question', 'options': {'a': 'choice here', 'b': 'choice here', 'c': 'choice here', 'd': 'choice here'}, 'Correct': 'correct answer'}, 'Question 4': {'mcq': 'Multiple Choice Question', 'options': {'a': 'choice here', 'b': 'choice here', 'c': 'choice here', 'd': 'choice here'}, 'Correct': 'correct answer'}, 'Question 5': {'mcq': 'Multiple Choice Question', 'options': {'a': 'choice here', 'b': 'choice here', 'c': 'choice here', 'd': 'choice here'}, 'Correct': 'correct answer'}}\n"
     ]
    }
   ],
   "source": [
    "with open(\"i:\\8_end_to_end_projects\\Project_2\\MCQ_Generator\\Response.json\", 'r') as f:\n",
    "    Response_JSON = json.load(f)\n",
    "\n",
    "print(Response_JSON)"
   ]
  },
  {
   "cell_type": "code",
   "execution_count": 149,
   "metadata": {},
   "outputs": [],
   "source": [
    "main_template=\"\"\"\n",
    "Text:{topic}\n",
    "You are an expert MCQ generator. Given the above Topic, it is your job to \\\n",
    "create a quiz  of {number} multiple choice questions for {subject} students in {tone} tone. \n",
    "Make sure the questions are not repeated and check all the questions to be conforming the topic as well.\n",
    "Make sure to format your response like  RESPONSE_JSON below  and use it as a guide. \\\n",
    "Ensure to make {number} MCQs\n",
    "\n",
    "### RESPONSE_JSON\n",
    "{response_json}\n",
    "\n",
    "\"\"\""
   ]
  },
  {
   "cell_type": "code",
   "execution_count": 150,
   "metadata": {},
   "outputs": [],
   "source": [
    "quiz_generation_prompt = PromptTemplate(\n",
    "    input_variables=[\"topic\", \"number\", \"subject\", \"tone\", \"response_json\"],\n",
    "    template=main_template\n",
    "    )"
   ]
  },
  {
   "cell_type": "code",
   "execution_count": 151,
   "metadata": {},
   "outputs": [],
   "source": [
    "quiz_generation_chain = LLMChain(llm=llm, prompt = quiz_generation_prompt, verbose = True, output_key= \"quiz\")"
   ]
  },
  {
   "cell_type": "code",
   "execution_count": 132,
   "metadata": {},
   "outputs": [
    {
     "name": "stdout",
     "output_type": "stream",
     "text": [
      "\n",
      "\n",
      "\u001b[1m> Entering new LLMChain chain...\u001b[0m\n",
      "Prompt after formatting:\n",
      "\u001b[32;1m\u001b[1;3m\n",
      "Text:Supervised Machine Learning\n",
      "You are an expert MCQ generator. Given the above Topic, it is your job to create a quiz  of 5 multiple choice questions for Machine learning students in academic tone. \n",
      "Make sure the questions are not repeated and check all the questions to be conforming the topic as well.\n",
      "Make sure to format your response like  RESPONSE_JSON below  and use it as a guide. Ensure to make 5 MCQs\n",
      "\n",
      "### RESPONSE_JSON\n",
      "{'Question 1': {'mcq': 'Multiple Choice Question', 'options': {'a': 'choice here', 'b': 'choice here', 'c': 'choice here', 'd': 'choice here'}, 'Correct': 'correct answer'}, 'Question 2': {'mcq': 'Multiple Choice Question', 'options': {'a': 'choice here', 'b': 'choice here', 'c': 'choice here', 'd': 'choice here'}, 'Correct': 'correct answer'}, 'Question 3': {'mcq': 'Multiple Choice Question', 'options': {'a': 'choice here', 'b': 'choice here', 'c': 'choice here', 'd': 'choice here'}, 'Correct': 'correct answer'}, 'Question 4': {'mcq': 'Multiple Choice Question', 'options': {'a': 'choice here', 'b': 'choice here', 'c': 'choice here', 'd': 'choice here'}, 'Correct': 'correct answer'}, 'Question 5': {'mcq': 'Multiple Choice Question', 'options': {'a': 'choice here', 'b': 'choice here', 'c': 'choice here', 'd': 'choice here'}, 'Correct': 'correct answer'}}\n",
      "\n",
      "\u001b[0m\n"
     ]
    },
    {
     "name": "stdout",
     "output_type": "stream",
     "text": [
      "\n",
      "\u001b[1m> Finished chain.\u001b[0m\n"
     ]
    }
   ],
   "source": [
    "Quiz = quiz_generation_chain.run(topic = 'Supervised Machine Learning', number =5, subject = 'Machine learning', tone = 'academic', response_json = Response_JSON)"
   ]
  },
  {
   "cell_type": "code",
   "execution_count": 133,
   "metadata": {},
   "outputs": [
    {
     "name": "stdout",
     "output_type": "stream",
     "text": [
      "\n",
      "{\n",
      "  \"Question 1\": {\n",
      "    \"mcq\": \"What is Supervised Machine Learning?\",\n",
      "    \"options\": {\n",
      "      \"a\": \"A type of machine learning where the model learns from labeled data\",\n",
      "      \"b\": \"A type of machine learning where the model learns from unlabeled data\",\n",
      "      \"c\": \"A type of machine learning where the model doesn't require any data\",\n",
      "      \"d\": \"A type of machine learning where the model only uses images\"\n",
      "    },\n",
      "    \"Correct\": \"a\"\n",
      "  },\n",
      "  \"Question 2\": {\n",
      "    \"mcq\": \"Which of the following is an example of Supervised Machine Learning algorithm?\",\n",
      "    \"options\": {\n",
      "      \"a\": \"K-means clustering\",\n",
      "      \"b\": \"Decision Tree\",\n",
      "      \"c\": \"Principal Component Analysis\",\n",
      "      \"d\": \"Apriori Algorithm\"\n",
      "    },\n",
      "    \"Correct\": \"b\"\n",
      "  },\n",
      "  \"Question 3\": {\n",
      "    \"mcq\": \"In Supervised Machine Learning, what is the goal of the model?\",\n",
      "    \"options\": {\n",
      "      \"a\": \"To make predictions on unlabeled data\",\n",
      "      \"b\": \"To learn patterns from labeled data\",\n",
      "      \"c\": \"To group similar data points together\",\n",
      "      \"d\": \"To reduce dimensionality of the data\"\n",
      "    },\n",
      "    \"Correct\": \"b\"\n",
      "  },\n",
      "  \"Question 4\": {\n",
      "    \"mcq\": \"What is the process of Supervised Machine Learning model evaluation called?\",\n",
      "    \"options\": {\n",
      "      \"a\": \"Validation\",\n",
      "      \"b\": \"Clustering\",\n",
      "      \"c\": \"Feature Selection\",\n",
      "      \"d\": \"Association Rule Learning\"\n",
      "    },\n",
      "    \"Correct\": \"a\"\n",
      "  },\n",
      "  \"Question 5\": {\n",
      "    \"mcq\": \"Which of the following metrics is commonly used to evaluate classification models in Supervised Machine Learning?\",\n",
      "    \"options\": {\n",
      "      \"a\": \"Mean Absolute Error\",\n",
      "      \"b\": \"Root Mean Squared Error\",\n",
      "      \"c\": \"Accuracy\",\n",
      "      \"d\": \"Explained Variance Score\"\n",
      "    },\n",
      "    \"Correct\": \"c\"\n",
      "  }\n",
      "}\n"
     ]
    }
   ],
   "source": [
    "print(Quiz)"
   ]
  },
  {
   "cell_type": "code",
   "execution_count": 134,
   "metadata": {},
   "outputs": [],
   "source": [
    "verification_template=\"\"\"\n",
    "You are an expert english grammarian and writer. Given a Multiple Choice Quiz for {subject} students.\\\n",
    "You need to evaluate the complexity of the question and give a complete analysis of the quiz. Only use at max 50 words for complexity analysis. \n",
    "if the quiz is not at per with the cognitive and analytical abilities of the students,\\\n",
    "update the quiz questions which needs to be changed and change the {tone} such that it perfectly fits the student abilities\n",
    "Quiz_MCQs:\n",
    "{quiz}\n",
    "\n",
    "Check from an expert English Writer of the above quiz:\n",
    "\"\"\""
   ]
  },
  {
   "cell_type": "code",
   "execution_count": 135,
   "metadata": {},
   "outputs": [],
   "source": [
    "quiz_verification_prompt = PromptTemplate(\n",
    "    input_variables=[\"subject\", \"quiz\", \"tone\"],\n",
    "    template=verification_template\n",
    "    )"
   ]
  },
  {
   "cell_type": "code",
   "execution_count": 136,
   "metadata": {},
   "outputs": [],
   "source": [
    "quiz_verification_chain = LLMChain(llm=llm, prompt = quiz_verification_prompt, verbose = True, output_key= \"review\")"
   ]
  },
  {
   "cell_type": "code",
   "execution_count": 137,
   "metadata": {},
   "outputs": [
    {
     "name": "stdout",
     "output_type": "stream",
     "text": [
      "\n",
      "\n",
      "\u001b[1m> Entering new LLMChain chain...\u001b[0m\n",
      "Prompt after formatting:\n",
      "\u001b[32;1m\u001b[1;3m\n",
      "You are an expert english grammarian and writer. Given a Multiple Choice Quiz for Machine learning students.You need to evaluate the complexity of the question and give a complete analysis of the quiz. Only use at max 50 words for complexity analysis. \n",
      "if the quiz is not at per with the cognitive and analytical abilities of the students,update the quiz questions which needs to be changed and change the academic such that it perfectly fits the student abilities\n",
      "Quiz_MCQs:\n",
      "\n",
      "{\n",
      "  \"Question 1\": {\n",
      "    \"mcq\": \"What is Supervised Machine Learning?\",\n",
      "    \"options\": {\n",
      "      \"a\": \"A type of machine learning where the model learns from labeled data\",\n",
      "      \"b\": \"A type of machine learning where the model learns from unlabeled data\",\n",
      "      \"c\": \"A type of machine learning where the model doesn't require any data\",\n",
      "      \"d\": \"A type of machine learning where the model only uses images\"\n",
      "    },\n",
      "    \"Correct\": \"a\"\n",
      "  },\n",
      "  \"Question 2\": {\n",
      "    \"mcq\": \"Which of the following is an example of Supervised Machine Learning algorithm?\",\n",
      "    \"options\": {\n",
      "      \"a\": \"K-means clustering\",\n",
      "      \"b\": \"Decision Tree\",\n",
      "      \"c\": \"Principal Component Analysis\",\n",
      "      \"d\": \"Apriori Algorithm\"\n",
      "    },\n",
      "    \"Correct\": \"b\"\n",
      "  },\n",
      "  \"Question 3\": {\n",
      "    \"mcq\": \"In Supervised Machine Learning, what is the goal of the model?\",\n",
      "    \"options\": {\n",
      "      \"a\": \"To make predictions on unlabeled data\",\n",
      "      \"b\": \"To learn patterns from labeled data\",\n",
      "      \"c\": \"To group similar data points together\",\n",
      "      \"d\": \"To reduce dimensionality of the data\"\n",
      "    },\n",
      "    \"Correct\": \"b\"\n",
      "  },\n",
      "  \"Question 4\": {\n",
      "    \"mcq\": \"What is the process of Supervised Machine Learning model evaluation called?\",\n",
      "    \"options\": {\n",
      "      \"a\": \"Validation\",\n",
      "      \"b\": \"Clustering\",\n",
      "      \"c\": \"Feature Selection\",\n",
      "      \"d\": \"Association Rule Learning\"\n",
      "    },\n",
      "    \"Correct\": \"a\"\n",
      "  },\n",
      "  \"Question 5\": {\n",
      "    \"mcq\": \"Which of the following metrics is commonly used to evaluate classification models in Supervised Machine Learning?\",\n",
      "    \"options\": {\n",
      "      \"a\": \"Mean Absolute Error\",\n",
      "      \"b\": \"Root Mean Squared Error\",\n",
      "      \"c\": \"Accuracy\",\n",
      "      \"d\": \"Explained Variance Score\"\n",
      "    },\n",
      "    \"Correct\": \"c\"\n",
      "  }\n",
      "}\n",
      "\n",
      "Check from an expert English Writer of the above quiz:\n",
      "\u001b[0m\n"
     ]
    },
    {
     "name": "stdout",
     "output_type": "stream",
     "text": [
      "\n",
      "\u001b[1m> Finished chain.\u001b[0m\n"
     ]
    }
   ],
   "source": [
    "Review = quiz_verification_chain.run(subject = 'Machine learning',  quiz = Quiz, tone = 'academic')"
   ]
  },
  {
   "cell_type": "code",
   "execution_count": 138,
   "metadata": {},
   "outputs": [
    {
     "data": {
      "text/plain": [
       "'The complexity of the quiz is suitable for machine learning students as it covers basic concepts of supervised machine learning. The questions are clear and concise, testing understanding of key terms and concepts. No changes are needed.'"
      ]
     },
     "execution_count": 138,
     "metadata": {},
     "output_type": "execute_result"
    }
   ],
   "source": [
    "Review"
   ]
  },
  {
   "cell_type": "code",
   "execution_count": 139,
   "metadata": {},
   "outputs": [],
   "source": [
    "overall_chain = SequentialChain(chains = [quiz_generation_chain, quiz_verification_chain], input_variables=[\"topic\", \"number\", \"subject\", \"tone\", \"response_json\"], output_variables= ['quiz', 'review'])"
   ]
  },
  {
   "cell_type": "code",
   "execution_count": 140,
   "metadata": {},
   "outputs": [
    {
     "data": {
      "text/plain": [
       "['quiz', 'review']"
      ]
     },
     "execution_count": 140,
     "metadata": {},
     "output_type": "execute_result"
    }
   ],
   "source": [
    "overall_chain.output_keys"
   ]
  },
  {
   "cell_type": "code",
   "execution_count": 154,
   "metadata": {},
   "outputs": [
    {
     "data": {
      "text/plain": [
       "{'Question 1': {'mcq': 'Multiple Choice Question',\n",
       "  'options': {'a': 'choice here',\n",
       "   'b': 'choice here',\n",
       "   'c': 'choice here',\n",
       "   'd': 'choice here'},\n",
       "  'Correct': 'correct answer'},\n",
       " 'Question 2': {'mcq': 'Multiple Choice Question',\n",
       "  'options': {'a': 'choice here',\n",
       "   'b': 'choice here',\n",
       "   'c': 'choice here',\n",
       "   'd': 'choice here'},\n",
       "  'Correct': 'correct answer'},\n",
       " 'Question 3': {'mcq': 'Multiple Choice Question',\n",
       "  'options': {'a': 'choice here',\n",
       "   'b': 'choice here',\n",
       "   'c': 'choice here',\n",
       "   'd': 'choice here'},\n",
       "  'Correct': 'correct answer'},\n",
       " 'Question 4': {'mcq': 'Multiple Choice Question',\n",
       "  'options': {'a': 'choice here',\n",
       "   'b': 'choice here',\n",
       "   'c': 'choice here',\n",
       "   'd': 'choice here'},\n",
       "  'Correct': 'correct answer'},\n",
       " 'Question 5': {'mcq': 'Multiple Choice Question',\n",
       "  'options': {'a': 'choice here',\n",
       "   'b': 'choice here',\n",
       "   'c': 'choice here',\n",
       "   'd': 'choice here'},\n",
       "  'Correct': 'correct answer'}}"
      ]
     },
     "execution_count": 154,
     "metadata": {},
     "output_type": "execute_result"
    }
   ],
   "source": [
    "Response_JSON"
   ]
  },
  {
   "cell_type": "code",
   "execution_count": 152,
   "metadata": {},
   "outputs": [
    {
     "data": {
      "text/plain": [
       "'{\"Question 1\": {\"mcq\": \"Multiple Choice Question\", \"options\": {\"a\": \"choice here\", \"b\": \"choice here\", \"c\": \"choice here\", \"d\": \"choice here\"}, \"Correct\": \"correct answer\"}, \"Question 2\": {\"mcq\": \"Multiple Choice Question\", \"options\": {\"a\": \"choice here\", \"b\": \"choice here\", \"c\": \"choice here\", \"d\": \"choice here\"}, \"Correct\": \"correct answer\"}, \"Question 3\": {\"mcq\": \"Multiple Choice Question\", \"options\": {\"a\": \"choice here\", \"b\": \"choice here\", \"c\": \"choice here\", \"d\": \"choice here\"}, \"Correct\": \"correct answer\"}, \"Question 4\": {\"mcq\": \"Multiple Choice Question\", \"options\": {\"a\": \"choice here\", \"b\": \"choice here\", \"c\": \"choice here\", \"d\": \"choice here\"}, \"Correct\": \"correct answer\"}, \"Question 5\": {\"mcq\": \"Multiple Choice Question\", \"options\": {\"a\": \"choice here\", \"b\": \"choice here\", \"c\": \"choice here\", \"d\": \"choice here\"}, \"Correct\": \"correct answer\"}}'"
      ]
     },
     "execution_count": 152,
     "metadata": {},
     "output_type": "execute_result"
    }
   ],
   "source": [
    "json.dumps(Response_JSON)"
   ]
  },
  {
   "cell_type": "code",
   "execution_count": 141,
   "metadata": {},
   "outputs": [
    {
     "name": "stdout",
     "output_type": "stream",
     "text": [
      "\n",
      "\n",
      "\u001b[1m> Entering new LLMChain chain...\u001b[0m\n",
      "Prompt after formatting:\n",
      "\u001b[32;1m\u001b[1;3m\n",
      "Text:Supervised Machine Learning\n",
      "You are an expert MCQ generator. Given the above Topic, it is your job to create a quiz  of 5 multiple choice questions for Machine learning students in academic tone. \n",
      "Make sure the questions are not repeated and check all the questions to be conforming the topic as well.\n",
      "Make sure to format your response like  RESPONSE_JSON below  and use it as a guide. Ensure to make 5 MCQs\n",
      "\n",
      "### RESPONSE_JSON\n",
      "{\"Question 1\": {\"mcq\": \"Multiple Choice Question\", \"options\": {\"a\": \"choice here\", \"b\": \"choice here\", \"c\": \"choice here\", \"d\": \"choice here\"}, \"Correct\": \"correct answer\"}, \"Question 2\": {\"mcq\": \"Multiple Choice Question\", \"options\": {\"a\": \"choice here\", \"b\": \"choice here\", \"c\": \"choice here\", \"d\": \"choice here\"}, \"Correct\": \"correct answer\"}, \"Question 3\": {\"mcq\": \"Multiple Choice Question\", \"options\": {\"a\": \"choice here\", \"b\": \"choice here\", \"c\": \"choice here\", \"d\": \"choice here\"}, \"Correct\": \"correct answer\"}, \"Question 4\": {\"mcq\": \"Multiple Choice Question\", \"options\": {\"a\": \"choice here\", \"b\": \"choice here\", \"c\": \"choice here\", \"d\": \"choice here\"}, \"Correct\": \"correct answer\"}, \"Question 5\": {\"mcq\": \"Multiple Choice Question\", \"options\": {\"a\": \"choice here\", \"b\": \"choice here\", \"c\": \"choice here\", \"d\": \"choice here\"}, \"Correct\": \"correct answer\"}}\n",
      "\n",
      "\u001b[0m\n"
     ]
    },
    {
     "name": "stdout",
     "output_type": "stream",
     "text": [
      "\n",
      "\u001b[1m> Finished chain.\u001b[0m\n",
      "\n",
      "\n",
      "\u001b[1m> Entering new LLMChain chain...\u001b[0m\n",
      "Prompt after formatting:\n",
      "\u001b[32;1m\u001b[1;3m\n",
      "You are an expert english grammarian and writer. Given a Multiple Choice Quiz for Machine learning students.You need to evaluate the complexity of the question and give a complete analysis of the quiz. Only use at max 50 words for complexity analysis. \n",
      "if the quiz is not at per with the cognitive and analytical abilities of the students,update the quiz questions which needs to be changed and change the academic such that it perfectly fits the student abilities\n",
      "Quiz_MCQs:\n",
      "\n",
      "{\n",
      "  \"Question 1\": {\n",
      "    \"mcq\": \"What is Supervised Machine Learning?\",\n",
      "    \"options\": {\n",
      "      \"a\": \"A type of machine learning where the model learns from labeled data\",\n",
      "      \"b\": \"A type of machine learning where the model learns from unlabeled data\",\n",
      "      \"c\": \"A type of machine learning where the model does not require any data\",\n",
      "      \"d\": \"A type of machine learning where the model learns from reinforcement\"\n",
      "    },\n",
      "    \"Correct\": \"a\"\n",
      "  },\n",
      "  \"Question 2\": {\n",
      "    \"mcq\": \"What is the goal of Supervised Machine Learning?\",\n",
      "    \"options\": {\n",
      "      \"a\": \"To predict future outcomes based on historical data\",\n",
      "      \"b\": \"To classify data into different categories\",\n",
      "      \"c\": \"To optimize a function\",\n",
      "      \"d\": \"To learn patterns from unstructured data\"\n",
      "    },\n",
      "    \"Correct\": \"a\"\n",
      "  },\n",
      "  \"Question 3\": {\n",
      "    \"mcq\": \"Which of the following is an example of Supervised Machine Learning algorithm?\",\n",
      "    \"options\": {\n",
      "      \"a\": \"K-means clustering\",\n",
      "      \"b\": \"Random Forest\",\n",
      "      \"c\": \"Principal Component Analysis\",\n",
      "      \"d\": \"Apriori algorithm\"\n",
      "    },\n",
      "    \"Correct\": \"b\"\n",
      "  },\n",
      "  \"Question 4\": {\n",
      "    \"mcq\": \"What is the process of Supervised Machine Learning?\",\n",
      "    \"options\": {\n",
      "      \"a\": \"Feature selection, data preprocessing, model training, model evaluation\",\n",
      "      \"b\": \"Model evaluation, feature selection, data preprocessing, model training\",\n",
      "      \"c\": \"Data preprocessing, model evaluation, feature selection, model training\",\n",
      "      \"d\": \"Model training, model evaluation, feature selection, data preprocessing\"\n",
      "    },\n",
      "    \"Correct\": \"a\"\n",
      "  },\n",
      "  \"Question 5\": {\n",
      "    \"mcq\": \"Which evaluation metric is commonly used in Supervised Machine Learning for classification problems?\",\n",
      "    \"options\": {\n",
      "      \"a\": \"Mean Squared Error (MSE)\",\n",
      "      \"b\": \"Accuracy\",\n",
      "      \"c\": \"R-squared\",\n",
      "      \"d\": \"Mean Absolute Error (MAE)\"\n",
      "    },\n",
      "    \"Correct\": \"b\"\n",
      "  }\n",
      "}\n",
      "\n",
      "Check from an expert English Writer of the above quiz:\n",
      "\u001b[0m\n",
      "\n",
      "\u001b[1m> Finished chain.\u001b[0m\n"
     ]
    }
   ],
   "source": [
    "with get_openai_callback() as cb:\n",
    "    Final_output=overall_chain(\n",
    "        {'topic':'Supervised Machine Learning', \n",
    "        'number': 5, \n",
    "        'subject' : 'Machine learning', \n",
    "        'tone' :'academic',\n",
    "        'response_json' : json.dumps(Response_JSON)}\n",
    "        )"
   ]
  },
  {
   "cell_type": "code",
   "execution_count": 153,
   "metadata": {},
   "outputs": [
    {
     "data": {
      "text/plain": [
       "{'topic': 'Supervised Machine Learning',\n",
       " 'number': 5,\n",
       " 'subject': 'Machine learning',\n",
       " 'tone': 'academic',\n",
       " 'response_json': '{\"Question 1\": {\"mcq\": \"Multiple Choice Question\", \"options\": {\"a\": \"choice here\", \"b\": \"choice here\", \"c\": \"choice here\", \"d\": \"choice here\"}, \"Correct\": \"correct answer\"}, \"Question 2\": {\"mcq\": \"Multiple Choice Question\", \"options\": {\"a\": \"choice here\", \"b\": \"choice here\", \"c\": \"choice here\", \"d\": \"choice here\"}, \"Correct\": \"correct answer\"}, \"Question 3\": {\"mcq\": \"Multiple Choice Question\", \"options\": {\"a\": \"choice here\", \"b\": \"choice here\", \"c\": \"choice here\", \"d\": \"choice here\"}, \"Correct\": \"correct answer\"}, \"Question 4\": {\"mcq\": \"Multiple Choice Question\", \"options\": {\"a\": \"choice here\", \"b\": \"choice here\", \"c\": \"choice here\", \"d\": \"choice here\"}, \"Correct\": \"correct answer\"}, \"Question 5\": {\"mcq\": \"Multiple Choice Question\", \"options\": {\"a\": \"choice here\", \"b\": \"choice here\", \"c\": \"choice here\", \"d\": \"choice here\"}, \"Correct\": \"correct answer\"}}',\n",
       " 'quiz': '\\n{\\n  \"Question 1\": {\\n    \"mcq\": \"What is Supervised Machine Learning?\",\\n    \"options\": {\\n      \"a\": \"A type of machine learning where the model learns from labeled data\",\\n      \"b\": \"A type of machine learning where the model learns from unlabeled data\",\\n      \"c\": \"A type of machine learning where the model does not require any data\",\\n      \"d\": \"A type of machine learning where the model learns from reinforcement\"\\n    },\\n    \"Correct\": \"a\"\\n  },\\n  \"Question 2\": {\\n    \"mcq\": \"What is the goal of Supervised Machine Learning?\",\\n    \"options\": {\\n      \"a\": \"To predict future outcomes based on historical data\",\\n      \"b\": \"To classify data into different categories\",\\n      \"c\": \"To optimize a function\",\\n      \"d\": \"To learn patterns from unstructured data\"\\n    },\\n    \"Correct\": \"a\"\\n  },\\n  \"Question 3\": {\\n    \"mcq\": \"Which of the following is an example of Supervised Machine Learning algorithm?\",\\n    \"options\": {\\n      \"a\": \"K-means clustering\",\\n      \"b\": \"Random Forest\",\\n      \"c\": \"Principal Component Analysis\",\\n      \"d\": \"Apriori algorithm\"\\n    },\\n    \"Correct\": \"b\"\\n  },\\n  \"Question 4\": {\\n    \"mcq\": \"What is the process of Supervised Machine Learning?\",\\n    \"options\": {\\n      \"a\": \"Feature selection, data preprocessing, model training, model evaluation\",\\n      \"b\": \"Model evaluation, feature selection, data preprocessing, model training\",\\n      \"c\": \"Data preprocessing, model evaluation, feature selection, model training\",\\n      \"d\": \"Model training, model evaluation, feature selection, data preprocessing\"\\n    },\\n    \"Correct\": \"a\"\\n  },\\n  \"Question 5\": {\\n    \"mcq\": \"Which evaluation metric is commonly used in Supervised Machine Learning for classification problems?\",\\n    \"options\": {\\n      \"a\": \"Mean Squared Error (MSE)\",\\n      \"b\": \"Accuracy\",\\n      \"c\": \"R-squared\",\\n      \"d\": \"Mean Absolute Error (MAE)\"\\n    },\\n    \"Correct\": \"b\"\\n  }\\n}',\n",
       " 'review': 'The complexity of the quiz is suitable for machine learning students as it covers fundamental concepts in supervised machine learning. The questions are clear and concise, requiring basic knowledge of the subject. No changes are needed for this quiz.'}"
      ]
     },
     "execution_count": 153,
     "metadata": {},
     "output_type": "execute_result"
    }
   ],
   "source": [
    "Final_output"
   ]
  },
  {
   "cell_type": "code",
   "execution_count": 155,
   "metadata": {},
   "outputs": [
    {
     "name": "stdout",
     "output_type": "stream",
     "text": [
      "Total Tokens:1464\n",
      "Prompt Tokens:949\n",
      "Completion Tokens:515\n",
      "Total Cost:0.0024535\n"
     ]
    }
   ],
   "source": [
    "print(f\"Total Tokens:{cb.total_tokens}\")\n",
    "print(f\"Prompt Tokens:{cb.prompt_tokens}\")\n",
    "print(f\"Completion Tokens:{cb.completion_tokens}\")\n",
    "print(f\"Total Cost:{cb.total_cost}\")"
   ]
  },
  {
   "cell_type": "code",
   "execution_count": 161,
   "metadata": {},
   "outputs": [],
   "source": [
    "quiz=Final_output.get(\"quiz\")"
   ]
  },
  {
   "cell_type": "code",
   "execution_count": 162,
   "metadata": {},
   "outputs": [],
   "source": [
    "quiz_dict=json.loads(quiz)"
   ]
  },
  {
   "cell_type": "code",
   "execution_count": 163,
   "metadata": {},
   "outputs": [
    {
     "data": {
      "text/plain": [
       "{'Question 1': {'mcq': 'What is Supervised Machine Learning?',\n",
       "  'options': {'a': 'A type of machine learning where the model learns from labeled data',\n",
       "   'b': 'A type of machine learning where the model learns from unlabeled data',\n",
       "   'c': 'A type of machine learning where the model does not require any data',\n",
       "   'd': 'A type of machine learning where the model learns from reinforcement'},\n",
       "  'Correct': 'a'},\n",
       " 'Question 2': {'mcq': 'What is the goal of Supervised Machine Learning?',\n",
       "  'options': {'a': 'To predict future outcomes based on historical data',\n",
       "   'b': 'To classify data into different categories',\n",
       "   'c': 'To optimize a function',\n",
       "   'd': 'To learn patterns from unstructured data'},\n",
       "  'Correct': 'a'},\n",
       " 'Question 3': {'mcq': 'Which of the following is an example of Supervised Machine Learning algorithm?',\n",
       "  'options': {'a': 'K-means clustering',\n",
       "   'b': 'Random Forest',\n",
       "   'c': 'Principal Component Analysis',\n",
       "   'd': 'Apriori algorithm'},\n",
       "  'Correct': 'b'},\n",
       " 'Question 4': {'mcq': 'What is the process of Supervised Machine Learning?',\n",
       "  'options': {'a': 'Feature selection, data preprocessing, model training, model evaluation',\n",
       "   'b': 'Model evaluation, feature selection, data preprocessing, model training',\n",
       "   'c': 'Data preprocessing, model evaluation, feature selection, model training',\n",
       "   'd': 'Model training, model evaluation, feature selection, data preprocessing'},\n",
       "  'Correct': 'a'},\n",
       " 'Question 5': {'mcq': 'Which evaluation metric is commonly used in Supervised Machine Learning for classification problems?',\n",
       "  'options': {'a': 'Mean Squared Error (MSE)',\n",
       "   'b': 'Accuracy',\n",
       "   'c': 'R-squared',\n",
       "   'd': 'Mean Absolute Error (MAE)'},\n",
       "  'Correct': 'b'}}"
      ]
     },
     "execution_count": 163,
     "metadata": {},
     "output_type": "execute_result"
    }
   ],
   "source": [
    "quiz_dict"
   ]
  },
  {
   "cell_type": "code",
   "execution_count": 178,
   "metadata": {},
   "outputs": [],
   "source": [
    "quiz_table_data = []\n",
    "for key, value in quiz_dict.items():\n",
    "    mcq = value['mcq']\n",
    "    option_a = value['options']['a']\n",
    "    option_b = value['options']['b']\n",
    "    option_c = value['options']['c']\n",
    "    option_d = value['options']['d']\n",
    "    correct = value['Correct']\n",
    "    quiz_table_data.append({'Question': mcq, \"Options A\": option_a, \"Options B\": option_b, \"Options C\": option_c, \"Options D\": option_d, \"Correct Answer\": correct})"
   ]
  },
  {
   "cell_type": "code",
   "execution_count": 179,
   "metadata": {},
   "outputs": [],
   "source": [
    "quiz_table_df = pd.DataFrame(quiz_table_data)"
   ]
  },
  {
   "cell_type": "code",
   "execution_count": 180,
   "metadata": {},
   "outputs": [
    {
     "data": {
      "text/html": [
       "<div>\n",
       "<style scoped>\n",
       "    .dataframe tbody tr th:only-of-type {\n",
       "        vertical-align: middle;\n",
       "    }\n",
       "\n",
       "    .dataframe tbody tr th {\n",
       "        vertical-align: top;\n",
       "    }\n",
       "\n",
       "    .dataframe thead th {\n",
       "        text-align: right;\n",
       "    }\n",
       "</style>\n",
       "<table border=\"1\" class=\"dataframe\">\n",
       "  <thead>\n",
       "    <tr style=\"text-align: right;\">\n",
       "      <th></th>\n",
       "      <th>Question</th>\n",
       "      <th>Options A</th>\n",
       "      <th>Options B</th>\n",
       "      <th>Options C</th>\n",
       "      <th>Options D</th>\n",
       "      <th>Correct Answer</th>\n",
       "    </tr>\n",
       "  </thead>\n",
       "  <tbody>\n",
       "    <tr>\n",
       "      <th>0</th>\n",
       "      <td>What is Supervised Machine Learning?</td>\n",
       "      <td>A type of machine learning where the model lea...</td>\n",
       "      <td>A type of machine learning where the model lea...</td>\n",
       "      <td>A type of machine learning where the model doe...</td>\n",
       "      <td>A type of machine learning where the model lea...</td>\n",
       "      <td>a</td>\n",
       "    </tr>\n",
       "    <tr>\n",
       "      <th>1</th>\n",
       "      <td>What is the goal of Supervised Machine Learning?</td>\n",
       "      <td>To predict future outcomes based on historical...</td>\n",
       "      <td>To classify data into different categories</td>\n",
       "      <td>To optimize a function</td>\n",
       "      <td>To learn patterns from unstructured data</td>\n",
       "      <td>a</td>\n",
       "    </tr>\n",
       "    <tr>\n",
       "      <th>2</th>\n",
       "      <td>Which of the following is an example of Superv...</td>\n",
       "      <td>K-means clustering</td>\n",
       "      <td>Random Forest</td>\n",
       "      <td>Principal Component Analysis</td>\n",
       "      <td>Apriori algorithm</td>\n",
       "      <td>b</td>\n",
       "    </tr>\n",
       "    <tr>\n",
       "      <th>3</th>\n",
       "      <td>What is the process of Supervised Machine Lear...</td>\n",
       "      <td>Feature selection, data preprocessing, model t...</td>\n",
       "      <td>Model evaluation, feature selection, data prep...</td>\n",
       "      <td>Data preprocessing, model evaluation, feature ...</td>\n",
       "      <td>Model training, model evaluation, feature sele...</td>\n",
       "      <td>a</td>\n",
       "    </tr>\n",
       "    <tr>\n",
       "      <th>4</th>\n",
       "      <td>Which evaluation metric is commonly used in Su...</td>\n",
       "      <td>Mean Squared Error (MSE)</td>\n",
       "      <td>Accuracy</td>\n",
       "      <td>R-squared</td>\n",
       "      <td>Mean Absolute Error (MAE)</td>\n",
       "      <td>b</td>\n",
       "    </tr>\n",
       "  </tbody>\n",
       "</table>\n",
       "</div>"
      ],
      "text/plain": [
       "                                            Question  \\\n",
       "0               What is Supervised Machine Learning?   \n",
       "1   What is the goal of Supervised Machine Learning?   \n",
       "2  Which of the following is an example of Superv...   \n",
       "3  What is the process of Supervised Machine Lear...   \n",
       "4  Which evaluation metric is commonly used in Su...   \n",
       "\n",
       "                                           Options A  \\\n",
       "0  A type of machine learning where the model lea...   \n",
       "1  To predict future outcomes based on historical...   \n",
       "2                                 K-means clustering   \n",
       "3  Feature selection, data preprocessing, model t...   \n",
       "4                           Mean Squared Error (MSE)   \n",
       "\n",
       "                                           Options B  \\\n",
       "0  A type of machine learning where the model lea...   \n",
       "1         To classify data into different categories   \n",
       "2                                      Random Forest   \n",
       "3  Model evaluation, feature selection, data prep...   \n",
       "4                                           Accuracy   \n",
       "\n",
       "                                           Options C  \\\n",
       "0  A type of machine learning where the model doe...   \n",
       "1                             To optimize a function   \n",
       "2                       Principal Component Analysis   \n",
       "3  Data preprocessing, model evaluation, feature ...   \n",
       "4                                          R-squared   \n",
       "\n",
       "                                           Options D Correct Answer  \n",
       "0  A type of machine learning where the model lea...              a  \n",
       "1           To learn patterns from unstructured data              a  \n",
       "2                                  Apriori algorithm              b  \n",
       "3  Model training, model evaluation, feature sele...              a  \n",
       "4                          Mean Absolute Error (MAE)              b  "
      ]
     },
     "metadata": {},
     "output_type": "display_data"
    }
   ],
   "source": [
    "display(quiz_table_df)"
   ]
  },
  {
   "cell_type": "code",
   "execution_count": 177,
   "metadata": {},
   "outputs": [],
   "source": [
    "quiz_table_df.to_csv('Supervised_Machine_Learning_quiz.csv', index= False)"
   ]
  }
 ],
 "metadata": {
  "kernelspec": {
   "display_name": "Python 3",
   "language": "python",
   "name": "python3"
  },
  "language_info": {
   "codemirror_mode": {
    "name": "ipython",
    "version": 3
   },
   "file_extension": ".py",
   "mimetype": "text/x-python",
   "name": "python",
   "nbconvert_exporter": "python",
   "pygments_lexer": "ipython3",
   "version": "3.10.0"
  }
 },
 "nbformat": 4,
 "nbformat_minor": 2
}
